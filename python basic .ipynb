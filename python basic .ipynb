{
 "cells": [
  {
   "cell_type": "markdown",
   "id": "f933951e-fbd5-41f2-8b91-b59dec352d23",
   "metadata": {},
   "source": [
    "## Python Basics and Object-Oriented Programming Guide"
   ]
  },
  {
   "cell_type": "markdown",
   "id": "6dbbc56a-77e7-4131-ab55-439269e32c52",
   "metadata": {},
   "source": [
    "# 🔹 Introduction\n",
    "\n",
    "In this project, we will cover the fundamental concepts of Python programming. These topics are essential for beginners to understand how Python works and to build a strong foundation for more advanced programming.\n",
    "\n",
    "Topics we will cover:\n",
    "- Identifiers and Variables\n",
    "- Python Keywords\n",
    "- Data Types\n",
    "- Arithmetic Operators\n",
    "- Relational & Logical Operators\n",
    "- Conditional Statements (if, if-else)\n",
    "- Loops (while, for)\n",
    "- Functions (basics)."
   ]
  },
  {
   "cell_type": "markdown",
   "id": "86a2435c-6af1-4cfd-b6c6-662c58f44565",
   "metadata": {},
   "source": [
    "####  Variables and Datatypes"
   ]
  },
  {
   "cell_type": "code",
   "execution_count": 2,
   "id": "ae8245be-105d-45ee-8aaa-5747bc2ff226",
   "metadata": {},
   "outputs": [
    {
     "name": "stdout",
     "output_type": "stream",
     "text": [
      "29 3.1415 Soniya True\n",
      "<class 'int'> <class 'float'> <class 'str'> <class 'bool'>\n"
     ]
    }
   ],
   "source": [
    "# Integer\n",
    "age = 29\n",
    "# Float\n",
    "pi = 3.1415\n",
    "# String\n",
    "name = \"Soniya\"\n",
    "# Boolean\n",
    "is_student = True\n",
    "\n",
    "print(age, pi, name, is_student)\n",
    "print(type(age), type(pi), type(name), type(is_student))\n"
   ]
  },
  {
   "cell_type": "markdown",
   "id": "a3b179b4-908b-45eb-bd71-5c641363438d",
   "metadata": {},
   "source": [
    "#### Arithmetic Operators"
   ]
  },
  {
   "cell_type": "code",
   "execution_count": 3,
   "id": "764f619a-b129-42db-86d2-8db9319e362d",
   "metadata": {},
   "outputs": [
    {
     "name": "stdout",
     "output_type": "stream",
     "text": [
      "Addition (a + b): 19\n",
      "Subtraction (a - b): 11\n",
      "Multiplication (a * b): 60\n",
      "Division (a / b): 3.75\n",
      "Floor Division (a // b): 3\n",
      "Modulus (a % b): 3\n",
      "Exponent (a ** b): 50625\n"
     ]
    }
   ],
   "source": [
    "a = 15\n",
    "b = 4\n",
    "\n",
    "print(\"Addition (a + b):\", a + b)      \n",
    "print(\"Subtraction (a - b):\", a - b)  \n",
    "print(\"Multiplication (a * b):\", a * b)  \n",
    "print(\"Division (a / b):\", a / b)      \n",
    "print(\"Floor Division (a // b):\", a // b)  \n",
    "print(\"Modulus (a % b):\", a % b)       \n",
    "print(\"Exponent (a ** b):\", a ** b)    \n"
   ]
  },
  {
   "cell_type": "markdown",
   "id": "16a50cd3-ee06-48b6-9bb1-9ac7adbe0859",
   "metadata": {},
   "source": [
    "#### User Input and Casting"
   ]
  },
  {
   "cell_type": "code",
   "execution_count": 4,
   "id": "2748f8d9-4ac1-41cf-a1fe-e9bcc50005d9",
   "metadata": {},
   "outputs": [
    {
     "name": "stdin",
     "output_type": "stream",
     "text": [
      "Enter first number:  21\n",
      "Enter second number:  2.9\n"
     ]
    },
    {
     "name": "stdout",
     "output_type": "stream",
     "text": [
      "Addition: 23.9\n"
     ]
    }
   ],
   "source": [
    "num1 = int(input(\"Enter first number: \"))\n",
    "num2 = float(input(\"Enter second number: \"))\n",
    "\n",
    "print(\"Addition:\", num1 + num2)\n"
   ]
  },
  {
   "cell_type": "markdown",
   "id": "ed42649b-4dea-495d-8d15-65d97e0e5e95",
   "metadata": {},
   "source": [
    "#### If-else with Boolean Values"
   ]
  },
  {
   "cell_type": "code",
   "execution_count": 6,
   "id": "b4b195e5-7d4e-43a6-aaa3-be89be4597f8",
   "metadata": {},
   "outputs": [
    {
     "name": "stdout",
     "output_type": "stream",
     "text": [
      "Welcome back!\n"
     ]
    }
   ],
   "source": [
    "A = True\n",
    "\n",
    "if A:\n",
    "    print(\"Welcome back!\")\n",
    "else:\n",
    "    print(\"Please log in.\")\n"
   ]
  },
  {
   "cell_type": "markdown",
   "id": "295d163a-4a9f-4575-b5f4-77abd5560168",
   "metadata": {},
   "source": [
    "#### If-else with Examples"
   ]
  },
  {
   "cell_type": "code",
   "execution_count": 8,
   "id": "df78ca2b-f278-49ab-bc3f-588818aa019c",
   "metadata": {},
   "outputs": [
    {
     "name": "stdin",
     "output_type": "stream",
     "text": [
      "Enter a number:  8\n"
     ]
    },
    {
     "name": "stdout",
     "output_type": "stream",
     "text": [
      "8 is Even\n"
     ]
    }
   ],
   "source": [
    "num = int(input(\"Enter a number: \"))\n",
    "\n",
    "if num % 2 == 0:\n",
    "    print(num, \"is Even\")\n",
    "else:\n",
    "    print(num, \"is Odd\")\n"
   ]
  },
  {
   "cell_type": "markdown",
   "id": "8e35ecad-c690-4093-8dc1-f39149771856",
   "metadata": {},
   "source": [
    "#### For-loop Explained"
   ]
  },
  {
   "cell_type": "code",
   "execution_count": 9,
   "id": "389507b6-a73e-411d-b2ae-2256a6521729",
   "metadata": {},
   "outputs": [
    {
     "name": "stdout",
     "output_type": "stream",
     "text": [
      "Number: 1\n",
      "Number: 2\n",
      "Number: 3\n",
      "Number: 4\n",
      "Number: 5\n"
     ]
    }
   ],
   "source": [
    "for i in range(1, 6):\n",
    "    print(\"Number:\", i)\n"
   ]
  },
  {
   "cell_type": "markdown",
   "id": "8df7f92f-6b83-4aef-be7e-7f956717b16d",
   "metadata": {},
   "source": [
    "#### Nested For-loop"
   ]
  },
  {
   "cell_type": "code",
   "execution_count": 11,
   "id": "9aa2edd9-66d3-435b-8492-0ee8cf2f89c8",
   "metadata": {},
   "outputs": [
    {
     "name": "stdout",
     "output_type": "stream",
     "text": [
      "i=1, j=1\n",
      "i=1, j=2\n",
      "i=1, j=3\n",
      "i=2, j=1\n",
      "i=2, j=2\n",
      "i=2, j=3\n",
      "i=3, j=1\n",
      "i=3, j=2\n",
      "i=3, j=3\n"
     ]
    }
   ],
   "source": [
    "for i in range(1, 4):\n",
    "    for j in range(1, 4):\n",
    "        print(f\"i={i}, j={j}\")\n"
   ]
  },
  {
   "cell_type": "markdown",
   "id": "d7005e34-bd49-417a-8569-901a89af2c61",
   "metadata": {},
   "source": [
    "### Python Collections"
   ]
  },
  {
   "cell_type": "code",
   "execution_count": 13,
   "id": "65fc0d53-0715-4f77-bd61-549fbd2ca1e4",
   "metadata": {},
   "outputs": [
    {
     "name": "stdout",
     "output_type": "stream",
     "text": [
      "apple\n",
      "(3, 4)\n",
      "{1, 2, 3}\n",
      "Alice\n"
     ]
    }
   ],
   "source": [
    "# List\n",
    "fruits = [\"apple\", \"banana\", \"cherry\"]\n",
    "print(fruits[0])\n",
    "\n",
    "# Tuple\n",
    "point = (3, 4)\n",
    "print(point)\n",
    "\n",
    "# Set\n",
    "unique_nums = {1, 2, 2, 3}\n",
    "print(unique_nums)\n",
    "\n",
    "# Dictionary\n",
    "student = {\"name\": \"Alice\", \"age\": 20}\n",
    "print(student[\"name\"])\n"
   ]
  },
  {
   "cell_type": "markdown",
   "id": "56d031f8-0d58-4c89-9693-e87730552c22",
   "metadata": {},
   "source": [
    "#### Functions in Python and Return Keyword"
   ]
  },
  {
   "cell_type": "code",
   "execution_count": 15,
   "id": "f52de68c-eba9-42ea-83dc-7ef1a800c078",
   "metadata": {},
   "outputs": [
    {
     "name": "stdout",
     "output_type": "stream",
     "text": [
      "Hello, Alice\n",
      "Square of 5: 25\n"
     ]
    }
   ],
   "source": [
    "# Functions\n",
    "def greet(name):\n",
    "    print(\"Hello,\", name)\n",
    "\n",
    "greet(\"Alice\")\n",
    "\n",
    "\n",
    "# Return Keyword\n",
    "def square(n):\n",
    "    return n * n\n",
    "\n",
    "print(\"Square of 5:\", square(5))\n"
   ]
  },
  {
   "cell_type": "code",
   "execution_count": 17,
   "id": "d9a0382a-f8db-4f2e-83d6-e24c71217952",
   "metadata": {},
   "outputs": [
    {
     "name": "stdout",
     "output_type": "stream",
     "text": [
      "Soni 29\n"
     ]
    }
   ],
   "source": [
    "# Classes and Objects\n",
    "class Person:\n",
    "    def __init__(self, name, age):\n",
    "        self.name = name\n",
    "        self.age = age\n",
    "\n",
    "p1 = Person(\"Soni\", 29)\n",
    "print(p1.name, p1.age)\n"
   ]
  },
  {
   "cell_type": "markdown",
   "id": "fc74a0ec-6532-47a2-b9d3-e03167b555f5",
   "metadata": {},
   "source": [
    "#### Constructor and Self Keyword"
   ]
  },
  {
   "cell_type": "code",
   "execution_count": 18,
   "id": "228bea74-1ad4-4f82-bb33-ddcee47d2c00",
   "metadata": {},
   "outputs": [
    {
     "name": "stdout",
     "output_type": "stream",
     "text": [
      "Car: Tesla Model S\n"
     ]
    }
   ],
   "source": [
    "class Car:\n",
    "    def __init__(self, brand, model):\n",
    "        self.brand = brand\n",
    "        self.model = model\n",
    "    \n",
    "    def show(self):\n",
    "        print(f\"Car: {self.brand} {self.model}\")\n",
    "\n",
    "c1 = Car(\"Tesla\", \"Model S\")\n",
    "c1.show()\n"
   ]
  },
  {
   "cell_type": "markdown",
   "id": "06e283cd-c979-4f39-a7c9-6b083f090035",
   "metadata": {},
   "source": [
    "#### Types of Class Variables"
   ]
  },
  {
   "cell_type": "code",
   "execution_count": 19,
   "id": "cddc02ee-a530-4604-87b0-f13e18d47979",
   "metadata": {},
   "outputs": [
    {
     "name": "stdout",
     "output_type": "stream",
     "text": [
      "Alice ABC School\n",
      "Bob ABC School\n"
     ]
    }
   ],
   "source": [
    "class Student:\n",
    "    school = \"ABC School\"  # class variable\n",
    "    \n",
    "    def __init__(self, name):\n",
    "        self.name = name  # instance variable\n",
    "\n",
    "s1 = Student(\"Alice\")\n",
    "s2 = Student(\"Bob\")\n",
    "print(s1.name, s1.school)\n",
    "print(s2.name, s2.school)\n"
   ]
  },
  {
   "cell_type": "markdown",
   "id": "4fbd3a27-769e-4c5c-8d91-3f641f833091",
   "metadata": {},
   "source": [
    "#### Types of Class Methods"
   ]
  },
  {
   "cell_type": "code",
   "execution_count": 20,
   "id": "996ac52e-21e0-4b10-80da-2c0aa30e0778",
   "metadata": {},
   "outputs": [
    {
     "name": "stdout",
     "output_type": "stream",
     "text": [
      "Instance method called\n",
      "Class method called, value: Hello\n",
      "Static method called\n"
     ]
    }
   ],
   "source": [
    "class MyClass:\n",
    "    class_variable = \"Hello\"\n",
    "\n",
    "    def instance_method(self):\n",
    "        print(\"Instance method called\")\n",
    "\n",
    "    @classmethod\n",
    "    def class_method(cls):\n",
    "        print(\"Class method called, value:\", cls.class_variable)\n",
    "\n",
    "    @staticmethod\n",
    "    def static_method():\n",
    "        print(\"Static method called\")\n",
    "\n",
    "obj = MyClass()\n",
    "obj.instance_method()\n",
    "MyClass.class_method()\n",
    "MyClass.static_method()\n"
   ]
  },
  {
   "cell_type": "markdown",
   "id": "b38a2293-4575-409b-ba84-a220491f2764",
   "metadata": {},
   "source": [
    "#### Inheritance and its Types"
   ]
  },
  {
   "cell_type": "code",
   "execution_count": 21,
   "id": "ffc4da53-9310-49ce-bd05-6fe3b3ad4bda",
   "metadata": {},
   "outputs": [
    {
     "name": "stdout",
     "output_type": "stream",
     "text": [
      "Animal speaks\n",
      "Dog barks\n"
     ]
    }
   ],
   "source": [
    "# Single Inheritance\n",
    "class Animal:\n",
    "    def speak(self):\n",
    "        print(\"Animal speaks\")\n",
    "\n",
    "class Dog(Animal):\n",
    "    def bark(self):\n",
    "        print(\"Dog barks\")\n",
    "\n",
    "d = Dog()\n",
    "d.speak()\n",
    "d.bark()\n"
   ]
  },
  {
   "cell_type": "markdown",
   "id": "735285d4-4fe0-44cb-867e-4dc045d6ee39",
   "metadata": {},
   "source": [
    "#### Polymorphism"
   ]
  },
  {
   "cell_type": "code",
   "execution_count": 23,
   "id": "8a1173cb-d2e1-439a-ad88-e2cb3263eff6",
   "metadata": {},
   "outputs": [
    {
     "name": "stdout",
     "output_type": "stream",
     "text": [
      "Bird can fly\n",
      "Penguin cannot fly\n"
     ]
    }
   ],
   "source": [
    "class Bird:\n",
    "    def fly(self):\n",
    "        print(\"Bird can fly\")\n",
    "\n",
    "class Penguin(Bird):\n",
    "    def fly(self):\n",
    "        print(\"Penguin cannot fly\")\n",
    "\n",
    "b = Bird()\n",
    "p = Penguin()\n",
    "\n",
    "for obj in (b, p):\n",
    "    obj.fly()\n"
   ]
  },
  {
   "cell_type": "markdown",
   "id": "26b5da29-66db-4fd3-ad0f-aaeb3596ab23",
   "metadata": {},
   "source": [
    "#### Encapsulation and Access Modifiers"
   ]
  },
  {
   "cell_type": "code",
   "execution_count": 26,
   "id": "9e7d22e0-0cad-4333-a3f1-8257df2988b4",
   "metadata": {},
   "outputs": [
    {
     "name": "stdout",
     "output_type": "stream",
     "text": [
      "Balance: 1000\n"
     ]
    }
   ],
   "source": [
    "class BankAccount:\n",
    "    def __init__(self, balance):\n",
    "        self._balance = balance  # protected\n",
    "        self.__pin = 1234        # private\n",
    "    \n",
    "    def show_balance(self):\n",
    "        print(\"Balance:\", self._balance)\n",
    "\n",
    "acc = BankAccount(1000)\n",
    "acc.show_balance()"
   ]
  },
  {
   "cell_type": "markdown",
   "id": "2b44aa53-5b4b-439e-8e85-8b657213d2e1",
   "metadata": {},
   "source": [
    "#### Exception Handling and File Handling"
   ]
  },
  {
   "cell_type": "code",
   "execution_count": 27,
   "id": "18f034fd-0e3d-42ed-a92e-9da94681a3f2",
   "metadata": {},
   "outputs": [
    {
     "name": "stdin",
     "output_type": "stream",
     "text": [
      "Enter number:  1\n"
     ]
    },
    {
     "name": "stdout",
     "output_type": "stream",
     "text": [
      "You entered: 1\n",
      "Hello, Python File Handling!\n",
      "\n"
     ]
    }
   ],
   "source": [
    "# Exception Handling\n",
    "try:\n",
    "    x = int(input(\"Enter number: \"))\n",
    "    print(\"You entered:\", x)\n",
    "except ValueError:\n",
    "    print(\"Invalid input, please enter a number\")\n",
    "\n",
    "# File Handling\n",
    "# Writing to file\n",
    "with open(\"sample.txt\", \"w\") as f:\n",
    "    f.write(\"Hello, Python File Handling!\\n\")\n",
    "\n",
    "# Reading from file\n",
    "with open(\"sample.txt\", \"r\") as f:\n",
    "    content = f.read()\n",
    "    print(content)\n",
    "\n"
   ]
  },
  {
   "cell_type": "code",
   "execution_count": null,
   "id": "06c8cfb1-e826-4451-9429-36c94706a527",
   "metadata": {},
   "outputs": [],
   "source": []
  }
 ],
 "metadata": {
  "kernelspec": {
   "display_name": "Python [conda env:base] *",
   "language": "python",
   "name": "conda-base-py"
  },
  "language_info": {
   "codemirror_mode": {
    "name": "ipython",
    "version": 3
   },
   "file_extension": ".py",
   "mimetype": "text/x-python",
   "name": "python",
   "nbconvert_exporter": "python",
   "pygments_lexer": "ipython3",
   "version": "3.12.7"
  }
 },
 "nbformat": 4,
 "nbformat_minor": 5
}
