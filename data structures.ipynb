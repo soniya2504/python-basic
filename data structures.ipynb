{
 "cells": [
  {
   "cell_type": "markdown",
   "id": "e798488b-e5c2-4cd3-882b-08fd6ae9e625",
   "metadata": {},
   "source": [
    "# Data structures"
   ]
  },
  {
   "cell_type": "markdown",
   "id": "c1dc4375-f507-4d6f-919a-2c3ac5d0274e",
   "metadata": {},
   "source": [
    "### A Data Structure is a way of organizing and storing data in a computer so that it can be accessed and used efficiently.\n",
    "\n",
    "Think of it like organizing your stuff at home:\n",
    "\n",
    "If you throw everything in a pile → hard to find something.\n",
    "\n",
    "If you use drawers, shelves, or boxes → easier to find, store, and manage.\n",
    "\n",
    "Similarly, in programming:\n",
    "\n",
    "We can store numbers, text, or objects in different ways.\n",
    "\n",
    "Different problems require different structures for speed, memory efficiency, and simplicity."
   ]
  },
  {
   "cell_type": "markdown",
   "id": "45f7c0b5-2041-4c06-8e98-3f0621c3f082",
   "metadata": {},
   "source": [
    "### Why Data Structures are Important\n",
    "\n",
    "Efficiency – Fast access, search, insert, delete.\n",
    "\n",
    "Organization – Helps structure data logically.\n",
    "\n",
    "Problem Solving – Many algorithms depend on the right data structure.\n",
    "\n",
    "Memory Management – Use only what’s needed."
   ]
  },
  {
   "cell_type": "markdown",
   "id": "28589ca0-9f54-448e-a5fb-002aed3bf970",
   "metadata": {},
   "source": [
    "### 1️⃣ arrays\n",
    "\n",
    "arrays/reverse_array.py"
   ]
  },
  {
   "cell_type": "code",
   "execution_count": 1,
   "id": "6c8d4a8a-215b-4f10-be65-e545f2ad3ab4",
   "metadata": {},
   "outputs": [
    {
     "name": "stdout",
     "output_type": "stream",
     "text": [
      "[5, 4, 3, 2, 1]\n"
     ]
    }
   ],
   "source": [
    "def reverse_array(arr):\n",
    "    left, right = 0, len(arr)-1\n",
    "    while left < right:\n",
    "        arr[left], arr[right] = arr[right], arr[left]\n",
    "        left, right = left+1, right-1\n",
    "    return arr\n",
    "\n",
    "if __name__ == \"__main__\":\n",
    "    nums = [1, 2, 3, 4, 5]\n",
    "    print(reverse_array(nums))  # [5,4,3,2,1]\n"
   ]
  },
  {
   "cell_type": "markdown",
   "id": "385acc1a-031d-4158-825a-eaab7dfa3f68",
   "metadata": {},
   "source": [
    "### arrays/second_largest.py"
   ]
  },
  {
   "cell_type": "code",
   "execution_count": 2,
   "id": "bbde1b8b-e5cf-4636-85ad-fa5979fef52b",
   "metadata": {},
   "outputs": [
    {
     "name": "stdout",
     "output_type": "stream",
     "text": [
      "45\n"
     ]
    }
   ],
   "source": [
    "def second_largest(arr):\n",
    "    first = second = float('-inf')\n",
    "    for num in arr:\n",
    "        if num > first:\n",
    "            second = first\n",
    "            first = num\n",
    "        elif first > num > second:\n",
    "            second = num\n",
    "    return None if second == float('-inf') else second\n",
    "\n",
    "if __name__ == \"__main__\":\n",
    "    nums = [10, 20, 4, 45, 99, 99]\n",
    "    print(second_largest(nums))  # 45\n"
   ]
  },
  {
   "cell_type": "markdown",
   "id": "3e4602a2-89fd-42b7-952d-33ae68c11480",
   "metadata": {},
   "source": [
    "### arrays/frequency_count.py"
   ]
  },
  {
   "cell_type": "code",
   "execution_count": 3,
   "id": "9d98ec4f-a3f5-46d5-a967-66dd06bf4801",
   "metadata": {},
   "outputs": [
    {
     "name": "stdout",
     "output_type": "stream",
     "text": [
      "Counter({3: 3, 2: 2, 1: 1, 4: 1})\n",
      "{1: 1, 2: 2, 3: 3, 4: 1}\n"
     ]
    }
   ],
   "source": [
    "from collections import Counter\n",
    "\n",
    "def count_freq_counter(arr):\n",
    "    return Counter(arr)\n",
    "\n",
    "def count_freq_manual(arr):\n",
    "    freq = {}\n",
    "    for num in arr:\n",
    "        freq[num] = freq.get(num, 0) + 1\n",
    "    return freq\n",
    "\n",
    "if __name__ == \"__main__\":\n",
    "    nums = [1,2,2,3,3,3,4]\n",
    "    print(count_freq_counter(nums))\n",
    "    print(count_freq_manual(nums))\n"
   ]
  },
  {
   "cell_type": "markdown",
   "id": "e4c20464-e421-4de7-bc6a-a7d277a88cdf",
   "metadata": {},
   "source": [
    "### arrays/swap_variables.py"
   ]
  },
  {
   "cell_type": "code",
   "execution_count": 4,
   "id": "d7891258-cb74-4778-a1de-01629e9b21f1",
   "metadata": {},
   "outputs": [
    {
     "name": "stdout",
     "output_type": "stream",
     "text": [
      "Before: 5 10\n",
      "After: 10 5\n"
     ]
    }
   ],
   "source": [
    "a, b = 5, 10\n",
    "print(\"Before:\", a, b)\n",
    "a, b = b, a\n",
    "print(\"After:\", a, b)\n"
   ]
  },
  {
   "cell_type": "markdown",
   "id": "5cc4abb3-c35b-4b21-9996-114934178887",
   "metadata": {},
   "source": [
    "### 2️⃣ hashing/\n",
    "\n",
    "hashing/anagram_check.py"
   ]
  },
  {
   "cell_type": "code",
   "execution_count": 5,
   "id": "d97242e5-b912-4c27-8a42-f7fea3e7253c",
   "metadata": {},
   "outputs": [
    {
     "name": "stdout",
     "output_type": "stream",
     "text": [
      "True\n",
      "False\n"
     ]
    }
   ],
   "source": [
    "from collections import Counter\n",
    "\n",
    "def is_anagram(s, t):\n",
    "    return Counter(s) == Counter(t)\n",
    "\n",
    "if __name__ == \"__main__\":\n",
    "    print(is_anagram(\"listen\", \"silent\"))  # True\n",
    "    print(is_anagram(\"hello\", \"world\"))    # False\n"
   ]
  },
  {
   "cell_type": "markdown",
   "id": "e31a7cc3-cb85-4a3c-93ae-bd7ae1c5a860",
   "metadata": {},
   "source": [
    "### hashing/subarray_sum_k.py"
   ]
  },
  {
   "cell_type": "code",
   "execution_count": 7,
   "id": "aaf633c8-2690-4fdc-8e62-1e3881d3fd5d",
   "metadata": {},
   "outputs": [
    {
     "name": "stdout",
     "output_type": "stream",
     "text": [
      "2\n"
     ]
    }
   ],
   "source": [
    "def subarray_sum(nums, k):\n",
    "    count, total = 0, 0\n",
    "    freq = {0: 1}\n",
    "    for x in nums:\n",
    "        total += x\n",
    "        count += freq.get(total-k, 0)\n",
    "        freq[total] = freq.get(total, 0) + 1\n",
    "    return count\n",
    "\n",
    "if __name__ == \"__main__\":\n",
    "    nums = [1,1,1]\n",
    "    print(subarray_sum(nums, 2))  # 2\n"
   ]
  },
  {
   "cell_type": "markdown",
   "id": "8a94420b-7f14-4cdf-8e1a-e8676c117de6",
   "metadata": {},
   "source": [
    "###  hashing/group_anagrams.py"
   ]
  },
  {
   "cell_type": "code",
   "execution_count": 8,
   "id": "5d1f3160-bce2-4066-a637-24c8913283dc",
   "metadata": {},
   "outputs": [
    {
     "name": "stdout",
     "output_type": "stream",
     "text": [
      "[['eat', 'tea', 'ate'], ['tan', 'nat'], ['bat']]\n"
     ]
    }
   ],
   "source": [
    "from collections import defaultdict\n",
    "\n",
    "def group_anagrams(strs):\n",
    "    d = defaultdict(list)\n",
    "    for s in strs:\n",
    "        key = tuple(sorted(s))\n",
    "        d[key].append(s)\n",
    "    return list(d.values())\n",
    "\n",
    "if __name__ == \"__main__\":\n",
    "    words = [\"eat\",\"tea\",\"tan\",\"ate\",\"nat\",\"bat\"]\n",
    "    print(group_anagrams(words))\n"
   ]
  },
  {
   "cell_type": "markdown",
   "id": "83707d80-d310-4e97-b3e7-1f7a49b414bd",
   "metadata": {},
   "source": [
    "### 3️⃣ stack/\n",
    "\n",
    "stack/valid_parentheses.py"
   ]
  },
  {
   "cell_type": "code",
   "execution_count": 9,
   "id": "abef7479-7c31-43ff-8c40-3369d09147c2",
   "metadata": {},
   "outputs": [
    {
     "name": "stdout",
     "output_type": "stream",
     "text": [
      "True\n",
      "False\n"
     ]
    }
   ],
   "source": [
    "def is_valid(s: str) -> bool:\n",
    "    stack = []\n",
    "    pairs = {')': '(', ']': '[', '}': '{'}\n",
    "    for ch in s:\n",
    "        if ch in pairs.values():\n",
    "            stack.append(ch)\n",
    "        elif ch in pairs:\n",
    "            if not stack or stack.pop() != pairs[ch]:\n",
    "                return False\n",
    "    return not stack\n",
    "\n",
    "if __name__ == \"__main__\":\n",
    "    print(is_valid(\"{[()]}\"))  # True\n",
    "    print(is_valid(\"([)]\"))    # False\n"
   ]
  },
  {
   "cell_type": "markdown",
   "id": "bf294567-a3b7-44fb-adfa-0bd39c2b3cf5",
   "metadata": {},
   "source": [
    "### stack/min_stack.py"
   ]
  },
  {
   "cell_type": "code",
   "execution_count": 11,
   "id": "40dcf1b9-c57e-4fdd-992a-14def13327a3",
   "metadata": {},
   "outputs": [
    {
     "name": "stdout",
     "output_type": "stream",
     "text": [
      "1\n",
      "2\n"
     ]
    }
   ],
   "source": [
    "class MinStack:\n",
    "    def __init__(self):\n",
    "        self.stack = []\n",
    "\n",
    "    def push(self, x):\n",
    "        m = min(x, self.getMin() if self.stack else x)\n",
    "        self.stack.append((x, m))\n",
    "\n",
    "    def pop(self):\n",
    "        self.stack.pop()\n",
    "\n",
    "    def top(self):\n",
    "        return self.stack[-1][0]\n",
    "\n",
    "    def getMin(self):\n",
    "        return self.stack[-1][1]\n",
    "\n",
    "if __name__ == \"__main__\":\n",
    "    ms = MinStack()\n",
    "    ms.push(3)\n",
    "    ms.push(2)\n",
    "    ms.push(1)\n",
    "    print(ms.getMin())  # 1\n",
    "    ms.pop()\n",
    "    print(ms.getMin())  # 2\n"
   ]
  },
  {
   "cell_type": "markdown",
   "id": "6ff88901-b1ee-439c-86b6-87e3def6ccb6",
   "metadata": {},
   "source": [
    "### 4️⃣ queue/\n",
    "\n",
    "queue/queue_using_deque.py"
   ]
  },
  {
   "cell_type": "code",
   "execution_count": 12,
   "id": "a1076cb9-2f37-460b-b1a8-cfc0a259df72",
   "metadata": {},
   "outputs": [
    {
     "name": "stdout",
     "output_type": "stream",
     "text": [
      "1\n",
      "2\n"
     ]
    }
   ],
   "source": [
    "from collections import deque\n",
    "\n",
    "q = deque()\n",
    "q.append(1)  # enqueue\n",
    "q.append(2)\n",
    "print(q.popleft())  # dequeue → 1\n",
    "print(q.popleft())  # 2\n"
   ]
  },
  {
   "cell_type": "markdown",
   "id": "16e127c3-d8a9-4913-a239-f9d17ad6ac99",
   "metadata": {},
   "source": [
    "### queue/sliding_window_max.py"
   ]
  },
  {
   "cell_type": "code",
   "execution_count": 13,
   "id": "38574569-ae2d-402b-85ae-55d48081289a",
   "metadata": {},
   "outputs": [
    {
     "name": "stdout",
     "output_type": "stream",
     "text": [
      "[3, 3, 5, 5, 6, 7]\n"
     ]
    }
   ],
   "source": [
    "from collections import deque\n",
    "\n",
    "def maxSlidingWindow(nums,k):\n",
    "    dq,res=deque(),[]\n",
    "    for i,n in enumerate(nums):\n",
    "        while dq and nums[dq[-1]]<n: dq.pop()\n",
    "        dq.append(i)\n",
    "        if dq[0]==i-k: dq.popleft()\n",
    "        if i>=k-1: res.append(nums[dq[0]])\n",
    "    return res\n",
    "\n",
    "if __name__ == \"__main__\":\n",
    "    print(maxSlidingWindow([1,3,-1,-3,5,3,6,7],3))\n",
    "    # Output: [3,3,5,5,6,7]\n"
   ]
  },
  {
   "cell_type": "markdown",
   "id": "4b3968f2-f333-4ed7-a0ce-872b7f61660c",
   "metadata": {},
   "source": [
    "### 5️⃣ linked_list/\n",
    "\n",
    "linked_list/reverse_linked_list.py"
   ]
  },
  {
   "cell_type": "code",
   "execution_count": 14,
   "id": "e1254def-8c27-4990-94ec-3534bdb68e75",
   "metadata": {},
   "outputs": [
    {
     "name": "stdout",
     "output_type": "stream",
     "text": [
      "3 2 1 "
     ]
    }
   ],
   "source": [
    "class ListNode:\n",
    "    def __init__(self, val=0, next=None):\n",
    "        self.val = val\n",
    "        self.next = next\n",
    "\n",
    "def reverse_list(head):\n",
    "    prev = None\n",
    "    while head:\n",
    "        nxt = head.next\n",
    "        head.next = prev\n",
    "        prev, head = head, nxt\n",
    "    return prev\n",
    "\n",
    "if __name__ == \"__main__\":\n",
    "    n3 = ListNode(3)\n",
    "    n2 = ListNode(2, n3)\n",
    "    n1 = ListNode(1, n2)\n",
    "    new_head = reverse_list(n1)\n",
    "    while new_head:\n",
    "        print(new_head.val, end=\" \")  # 3 2 1\n",
    "        new_head = new_head.next\n"
   ]
  },
  {
   "cell_type": "markdown",
   "id": "6956f9e3-1932-4131-a8db-0768e279206c",
   "metadata": {},
   "source": [
    "### linked_list/detect_cycle.py"
   ]
  },
  {
   "cell_type": "code",
   "execution_count": 15,
   "id": "e1c5c107-409b-4de0-9f37-386455095b41",
   "metadata": {},
   "outputs": [
    {
     "name": "stdout",
     "output_type": "stream",
     "text": [
      "True\n"
     ]
    }
   ],
   "source": [
    "class ListNode:\n",
    "    def __init__(self, val=0, next=None):\n",
    "        self.val = val\n",
    "        self.next = next\n",
    "\n",
    "def has_cycle(head):\n",
    "    slow = fast = head\n",
    "    while fast and fast.next:\n",
    "        slow = slow.next\n",
    "        fast = fast.next.next\n",
    "        if slow == fast:\n",
    "            return True\n",
    "    return False\n",
    "\n",
    "if __name__ == \"__main__\":\n",
    "    n3 = ListNode(3)\n",
    "    n2 = ListNode(2, n3)\n",
    "    n1 = ListNode(1, n2)\n",
    "    n3.next = n1  # create cycle\n",
    "    print(has_cycle(n1))  # True\n"
   ]
  },
  {
   "cell_type": "code",
   "execution_count": null,
   "id": "88bca633-620a-4c2b-be63-1d94b43655c1",
   "metadata": {},
   "outputs": [],
   "source": []
  }
 ],
 "metadata": {
  "kernelspec": {
   "display_name": "Python [conda env:base] *",
   "language": "python",
   "name": "conda-base-py"
  },
  "language_info": {
   "codemirror_mode": {
    "name": "ipython",
    "version": 3
   },
   "file_extension": ".py",
   "mimetype": "text/x-python",
   "name": "python",
   "nbconvert_exporter": "python",
   "pygments_lexer": "ipython3",
   "version": "3.12.7"
  }
 },
 "nbformat": 4,
 "nbformat_minor": 5
}
